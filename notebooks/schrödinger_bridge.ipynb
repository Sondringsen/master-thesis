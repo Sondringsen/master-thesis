{
 "cells": [
  {
   "cell_type": "markdown",
   "metadata": {},
   "source": [
    "## Notebook for hyperparameter-tuning for Schrödinger bridge"
   ]
  },
  {
   "cell_type": "code",
   "execution_count": null,
   "metadata": {},
   "outputs": [],
   "source": [
    "import pandas as pd\n",
    "import numpy as np\n",
    "import matplotlib.pyplot as plt\n",
    "import sys\n",
    "sys.path.append('../src')\n",
    "from models.data_generating_models import schrodinger_brigde\n",
    "from data_processing.post_processing import post_processing\n",
    "from data_processing.config import post_processing_config\n",
    "from models.DeepHedger import hedging\n",
    "from config import data_generation_config\n",
    "import wandb"
   ]
  },
  {
   "cell_type": "code",
   "execution_count": null,
   "metadata": {},
   "outputs": [],
   "source": [
    "train_data = pd.read_csv(\"../data/raw/spy_daily_closing_prices.csv\", index_col=0)\n",
    "\n",
    "i = 334\n",
    "train_data.iloc[i:i+30].plot(y='Close', use_index=True)\n",
    "train_data.plot(y='Close', use_index=True)\n",
    "plt.xlabel('Date')\n",
    "plt.ylabel('Log Returns')\n",
    "plt.title('Daily Closing Prices for First 30 Days')\n",
    "plt.show()\n",
    "\n",
    "train_data = np.log(train_data/train_data.shift(1)).dropna()\n",
    "print(\"Log returns description: \\n\", train_data.describe())\n",
    "\n",
    "\n",
    "N = 30\n",
    "M = 1000\n",
    "load_params = False"
   ]
  },
  {
   "cell_type": "code",
   "execution_count": null,
   "metadata": {},
   "outputs": [],
   "source": [
    "hyperparameters = {\n",
    "    \"sequence_length\": 30,\n",
    "    \"latent_dim\": 10,\n",
    "    \"hidden_layer_sizes\": [32, 32],\n",
    "    \"reconstruction_wt\": 3.0,\n",
    "    \"batch_size\": 32,\n",
    "    \"use_residual_conn\": True,\n",
    "    \"trend_poly\": 2,\n",
    "    \"custom_seas\": None\n",
    "}\n",
    "model = TimeVAE(train_data, N, M, load_params=False, config=hyperparameters)\n",
    "model.fit_params_to_data()\n",
    "print(f\"Reconstruction loss: {model.params[\"model\"].history.history[\"reconstruction_loss\"][-1]}\")\n",
    "print(f\"Loss: {model.params[\"model\"].history.history[\"loss\"][-1]}\")"
   ]
  }
 ],
 "metadata": {
  "kernelspec": {
   "display_name": ".venv",
   "language": "python",
   "name": "python3"
  },
  "language_info": {
   "name": "python",
   "version": "3.12.9"
  }
 },
 "nbformat": 4,
 "nbformat_minor": 2
}
