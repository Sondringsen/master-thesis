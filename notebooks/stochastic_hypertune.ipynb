{
 "cells": [
  {
   "cell_type": "markdown",
   "metadata": {},
   "source": [
    "# Notebook for hyperparameter-tuning of Stochastic models"
   ]
  },
  {
   "cell_type": "code",
   "execution_count": null,
   "metadata": {},
   "outputs": [],
   "source": [
    "import pandas as pd\n",
    "import numpy as np\n",
    "import matplotlib.pyplot as plt\n",
    "import sys\n",
    "sys.path.append('../src')\n",
    "# import some data generating model\n",
    "from data_processing.post_processing import post_processing\n",
    "from data_processing.config import post_processing_config\n",
    "from models.DeepHedger import hedging\n",
    "from config import data_generation_config\n",
    "import wandb"
   ]
  },
  {
   "cell_type": "markdown",
   "metadata": {},
   "source": [
    "## Define train and val data\n",
    "\n",
    "NOTE: \n",
    "- If you need preprocessing of the train data, you can do it here, but it is cleaner if the model class does it so that the input to the data generating model is just the raw data.\n",
    "- The preprocessing of the train does not need to match the preprocessing of val since the postprocessing of the generated data matches the val data.\n"
   ]
  },
  {
   "cell_type": "code",
   "execution_count": null,
   "metadata": {},
   "outputs": [],
   "source": [
    "train_data = pd.read_csv(\"../data/raw/spy_daily_closing_prices_train.csv\", index_col=0)\n",
    "\n",
    "val_data = pd.read_csv(\"../data/raw/spy_daily_closing_prices_val.csv\", index_col=0)\n",
    "\n",
    "val_data = val_data[\"Close\"]\n",
    "val_data.plot(use_index=True)\n",
    "val_data = np.array([val_data.values[i:i+30] for i in range(len(val_data)-30 + 1)])\n",
    "val_data = pd.DataFrame(val_data)\n",
    "val_data = val_data.div(val_data.iloc[:, 0], axis=0)\n",
    "\n",
    "test_data = pd.read_csv(\"../data/raw/spy_daily_closing_prices_test.csv\", index_col=0)\n",
    "test_data = test_data[\"Close\"]\n",
    "test_data = np.array([test_data.values[i:i+30] for i in range(len(test_data)-30 + 1)])\n",
    "test_data = pd.DataFrame(test_data)\n",
    "test_data = test_data.div(test_data.iloc[:, 0], axis=0)"
   ]
  },
  {
   "cell_type": "markdown",
   "metadata": {},
   "source": [
    "## Wandb login\n",
    "\n",
    "NOTE:\n",
    "- You might want to change this as this is my api key. A bit silly that I push the API-key to a public repo but but..."
   ]
  },
  {
   "cell_type": "code",
   "execution_count": null,
   "metadata": {},
   "outputs": [],
   "source": [
    "wandb.login(key=\"52ea61320bbc9ee2b773e909700366e65977cd0f\")"
   ]
  },
  {
   "cell_type": "markdown",
   "metadata": {},
   "source": [
    "## Define the sweep config.\n",
    "\n",
    "NOTE:\n",
    "- Here is an example, just change to kappa and theta and whatever for the stochastic models"
   ]
  },
  {
   "cell_type": "code",
   "execution_count": null,
   "metadata": {},
   "outputs": [],
   "source": [
    "sweep_config = {\n",
    "    'method': 'bayes',\n",
    "    'metric': {\n",
    "        'name': 'loss',\n",
    "        'goal': 'minimize'\n",
    "    },\n",
    "    'parameters': {\n",
    "        'noise_scale': {\n",
    "            'distribution': 'uniform',\n",
    "            'min': 0.01,\n",
    "            'max': 0.15\n",
    "        },\n",
    "        'learning_rate': {\n",
    "            'distribution': 'uniform',\n",
    "            'min': 0.001,\n",
    "            'max': 0.1\n",
    "        },\n",
    "        'hidden_size': {\n",
    "            'values': [4, 8,16, 32]\n",
    "        },\n",
    "    }\n",
    "}"
   ]
  },
  {
   "cell_type": "markdown",
   "metadata": {},
   "source": [
    "## Initialize the sweep\n",
    "\n",
    "NOTE:\n",
    "- Set a project name. I have called mine teacher_forcing_hyperopt for instance. So you can call it heston_hyperopt\n",
    "- When you run this a sweep id will be printed. If you want to cancel and resume a sweep you can do that just comment out the wandb.sweep line and uncomment the sweep_id line and set sweep_id equal to the sweep_id that you generated the first time."
   ]
  },
  {
   "cell_type": "code",
   "execution_count": null,
   "metadata": {},
   "outputs": [],
   "source": [
    "sweep_id = wandb.sweep(sweep_config, project=project_name)\n",
    "# sweep_id = \"\""
   ]
  },
  {
   "cell_type": "markdown",
   "metadata": {},
   "source": [
    "## Define the functions here\n",
    "\n",
    "NOTE:\n",
    "- You might need to make some changes here depending on how you train the model and generate the data.\n",
    "- Important thing: model.synth_data has to be a (MxN) dataframe. "
   ]
  },
  {
   "cell_type": "code",
   "execution_count": null,
   "metadata": {},
   "outputs": [],
   "source": [
    "def objective(config):\n",
    "    hyperparameters = {\n",
    "            \"noise_scale\": config.noise_scale,\n",
    "            \"learning_rate\": config.learning_rate,\n",
    "            \"hidden_size\": config.hidden_size\n",
    "        }\n",
    "    \n",
    "    # model = TeacherForcing(train_data=train_data, N=data_generation_config[\"N\"], M=data_generation_config[\"M\"], load_params=False, config=hyperparameters)\n",
    "    model.generate_data()\n",
    "\n",
    "    df_post_processed = post_processing(model.synth_data, **post_processing_config)\n",
    "\n",
    "    print('Hedging')\n",
    "    val_loss = hedging(df_post_processed, val_data)\n",
    "\n",
    "    return val_loss\n",
    "\n",
    "def main():\n",
    "    wandb.init()\n",
    "    val_loss = objective(wandb.config)\n",
    "    wandb.log({\"val_loss\": val_loss,  \"loss\": val_loss})"
   ]
  },
  {
   "cell_type": "code",
   "execution_count": null,
   "metadata": {},
   "outputs": [],
   "source": [
    "wandb.agent(sweep_id, function=main, count=10, project=project_name)"
   ]
  },
  {
   "cell_type": "markdown",
   "metadata": {},
   "source": [
    "## Some plotting after the tuning"
   ]
  },
  {
   "cell_type": "code",
   "execution_count": null,
   "metadata": {},
   "outputs": [],
   "source": [
    "fig, axs = plt.subplots(1, 1, figsize=(6, 4))\n",
    "\n",
    "# Plot post-processed paths\n",
    "for i in range(10):\n",
    "    axs.plot(df_post_processed.iloc[i, :], alpha=0.5)\n",
    "\n",
    "\n",
    "axs.set_title('Teacher Forcing - Generated Price Paths')\n",
    "axs.set_xlabel('Time Step')\n",
    "axs.set_ylabel('NormalizedPrice')\n",
    "axs.grid(True)\n",
    "\n",
    "plt.tight_layout()\n",
    "plt.show()\n"
   ]
  },
  {
   "cell_type": "markdown",
   "metadata": {},
   "source": [
    "NOTE:\n",
    "- model_name is only what shows up in the title of the plot. I have used \"Teacher Forcing\" for teacher forcing."
   ]
  },
  {
   "cell_type": "code",
   "execution_count": null,
   "metadata": {},
   "outputs": [],
   "source": [
    "from visualisation import visualization\n",
    "\n",
    "train_data_vis = np.array(train_data[[\"Close\"]].values)\n",
    "train_data_vis = np.array([train_data_vis[i:i+30] for i in range(len(train_data_vis)-30 + 1)])\n",
    "train_data_vis = train_data_vis / train_data_vis[:, 0:1]\n",
    "\n",
    "df_post_processed_vis = np.array(df_post_processed.values)\n",
    "df_post_processed_vis = df_post_processed_vis[..., np.newaxis]\n",
    "\n",
    "print(train_data_vis.shape)\n",
    "print(df_post_processed_vis.shape)\n",
    "\n",
    "visualization(ori_data=train_data_vis, generated_data=df_post_processed_vis, analysis='pca', data_generating_model=model_name, compare=train_data_vis.shape[0])"
   ]
  }
 ],
 "metadata": {
  "kernelspec": {
   "display_name": ".venv",
   "language": "python",
   "name": "python3"
  },
  "language_info": {
   "name": "python",
   "version": "3.12.9"
  }
 },
 "nbformat": 4,
 "nbformat_minor": 2
}
