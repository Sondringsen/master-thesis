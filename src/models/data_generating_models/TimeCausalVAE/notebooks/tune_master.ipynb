{
 "cells": [
  {
   "cell_type": "markdown",
   "metadata": {},
   "source": [
    "# Time Causal VAE"
   ]
  },
  {
   "cell_type": "code",
   "execution_count": null,
   "metadata": {},
   "outputs": [],
   "source": [
    "%load_ext autoreload\n",
    "%autoreload 2\n",
    "import sys\n",
    "import yaml\n",
    "sys.path.append('../src')\n",
    "from tsvae.utils.logger_utils import get_console_logger\n",
    "logger = get_console_logger(__name__)\n",
    "from os import path as pt\n",
    "from experiments.experiment_utils import get_output_dir, update_config\n",
    "from tsvae.dataset.data_pipeline import DataPipeline\n",
    "from tsvae.models.network_pipeline import NetworkPipeline\n",
    "from tsvae.utils.random_utils import set_seed\n",
    "from tsvae.trainers.base_trainer_config import BaseTrainerConfig\n",
    "from tsvae.trainers.training_pipeline import TrainingPipeline"
   ]
  },
  {
   "cell_type": "markdown",
   "metadata": {},
   "source": [
    "## TCVAE Model"
   ]
  },
  {
   "cell_type": "code",
   "execution_count": null,
   "metadata": {},
   "outputs": [
    {
     "name": "stderr",
     "output_type": "stream",
     "text": [
      "Experiment results saved to ../results/Master_timestep_30/model_BetaCVAE_De_CLSTMRes_En_CLSTMRes_Prior_RealNVP_Con_Id_Dis_None_comment_test\n",
      "Saving experiment config to ../results/Master_timestep_30/model_BetaCVAE_De_CLSTMRes_En_CLSTMRes_Prior_RealNVP_Con_Id_Dis_None_comment_test\n",
      "Setting ramdom seed: 0\n"
     ]
    }
   ],
   "source": [
    "base_output_dir = '..' \n",
    "new_config = {'epochs' : 100, 'wandb': False, 'comment': 'test'}\n",
    "exp_config_path = '../configs/Master/betacvae.yaml'\n",
    "\n",
    "with open(exp_config_path) as file:\n",
    "    exp_config = dict(yaml.safe_load(file))\n",
    "\n",
    "exp_config = update_config(exp_config, new_config)\n",
    "\n",
    "exp_config.base_output_dir = base_output_dir\n",
    "exp_config.output_dir = get_output_dir(exp_config)\n",
    "logger.info(f\"Experiment results saved to {exp_config.output_dir}\")\n",
    "\n",
    "logger.info(f\"Saving experiment config to {exp_config.output_dir}\")\n",
    "config_file_path = pt.join(exp_config.output_dir, \"exp_config.yaml\")\n",
    "with open(config_file_path, \"w\") as outfile:\n",
    "    yaml.dump(exp_config, outfile, default_flow_style=False)\n",
    "# logger.info(exp_config)\n",
    "\n",
    "# Generating data\n",
    "logger.info(f\"Setting ramdom seed: {exp_config.seed}\")\n",
    "set_seed(exp_config.seed)"
   ]
  },
  {
   "cell_type": "code",
   "execution_count": 6,
   "metadata": {},
   "outputs": [
    {
     "name": "stderr",
     "output_type": "stream",
     "text": [
      "Loading dataset: Master\n",
      "Base dataset initialized\n",
      "Load networks:\n"
     ]
    }
   ],
   "source": [
    "logger.info(f\"Loading dataset: {exp_config.dataset}\")\n",
    "data_pipeline = DataPipeline()\n",
    "train_dataset, eval_dataset = data_pipeline(exp_config)\n",
    "\n",
    "# Loading network\n",
    "logger.info(\"Load networks:\")\n",
    "network_pipeline = NetworkPipeline()\n",
    "model = network_pipeline(exp_config)\n",
    "# logger.info(f\"{model}\")"
   ]
  },
  {
   "cell_type": "code",
   "execution_count": null,
   "metadata": {},
   "outputs": [
    {
     "name": "stderr",
     "output_type": "stream",
     "text": [
      "Path Visualization of data\n",
      "Model passed sanity check !\n",
      "Ready for training.\n",
      "\n"
     ]
    }
   ],
   "source": [
    "sweep_config = {\n",
    "    'method': 'bayes',\n",
    "    'metric': {\n",
    "        'name': 'loss',\n",
    "        'goal': 'minimize'\n",
    "    },\n",
    "    \"learning_rate\"\n",
    "}\n",
    "\n",
    "training_config = BaseTrainerConfig(\n",
    "    output_dir=exp_config.output_dir,\n",
    "    learning_rate=exp_config.lr,\n",
    "    per_device_train_batch_size=exp_config.train_batch_size,\n",
    "    per_device_eval_batch_size=exp_config.eval_batch_size,\n",
    "    optimizer_cls=exp_config.optimizer,\n",
    "    optimizer_params=None,\n",
    "    scheduler_cls=None,\n",
    "    scheduler_params=None,\n",
    "    steps_saving=exp_config.steps_saving,\n",
    "    steps_predict=exp_config.steps_predict,\n",
    "    seed=exp_config.seed,\n",
    "    num_epochs=exp_config.epochs,\n",
    "    wandb_callback=exp_config.wandb,\n",
    "    wandb_output_dir=exp_config.base_output_dir + \"/wandb\",\n",
    ")\n",
    "\n",
    "def objective():\n",
    "\n",
    "    train_pipeline = TrainingPipeline(model=model, training_config=training_config, exp_config=exp_config)\n",
    "\n",
    "    trainer = train_pipeline(\n",
    "        train_dataset=train_dataset,\n",
    "        eval_dataset=eval_dataset,\n",
    "        device_name=exp_config.device_name,\n",
    "    )\n",
    "\n",
    "    train_pipeline.train(log_output=True)\n",
    "\n",
    "\n",
    "    return trainer.loss\n",
    "\n"
   ]
  }
 ],
 "metadata": {
  "kernelspec": {
   "display_name": ".venv",
   "language": "python",
   "name": "python3"
  },
  "language_info": {
   "codemirror_mode": {
    "name": "ipython",
    "version": 3
   },
   "file_extension": ".py",
   "mimetype": "text/x-python",
   "name": "python",
   "nbconvert_exporter": "python",
   "pygments_lexer": "ipython3",
   "version": "3.12.9"
  }
 },
 "nbformat": 4,
 "nbformat_minor": 2
}
