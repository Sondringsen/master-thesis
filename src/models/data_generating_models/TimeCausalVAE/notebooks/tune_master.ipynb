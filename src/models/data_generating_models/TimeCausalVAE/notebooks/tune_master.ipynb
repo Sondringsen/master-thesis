{
 "cells": [
  {
   "cell_type": "markdown",
   "metadata": {},
   "source": [
    "# Time Causal VAE"
   ]
  },
  {
   "cell_type": "code",
   "execution_count": 2,
   "metadata": {},
   "outputs": [
    {
     "name": "stdout",
     "output_type": "stream",
     "text": [
      "The autoreload extension is already loaded. To reload it, use:\n",
      "  %reload_ext autoreload\n"
     ]
    },
    {
     "ename": "ImportError",
     "evalue": "cannot import name 'post_processing_config' from 'config' (/Users/sondrerogde/Dev/master-thesis/src/models/data_generating_models/TimeCausalVAE/notebooks/../../../../config.py)",
     "output_type": "error",
     "traceback": [
      "\u001b[0;31m---------------------------------------------------------------------------\u001b[0m",
      "\u001b[0;31mImportError\u001b[0m                               Traceback (most recent call last)",
      "Cell \u001b[0;32mIn[2], line 22\u001b[0m\n\u001b[1;32m     19\u001b[0m \u001b[38;5;28;01mfrom\u001b[39;00m \u001b[38;5;21;01mos\u001b[39;00m \u001b[38;5;28;01mimport\u001b[39;00m path \u001b[38;5;28;01mas\u001b[39;00m pt\n\u001b[1;32m     20\u001b[0m \u001b[38;5;28;01mimport\u001b[39;00m \u001b[38;5;21;01mpandas\u001b[39;00m \u001b[38;5;28;01mas\u001b[39;00m \u001b[38;5;21;01mpd\u001b[39;00m\n\u001b[0;32m---> 22\u001b[0m \u001b[38;5;28;01mfrom\u001b[39;00m \u001b[38;5;21;01mdata_processing\u001b[39;00m\u001b[38;5;21;01m.\u001b[39;00m\u001b[38;5;21;01mpost_processing\u001b[39;00m \u001b[38;5;28;01mimport\u001b[39;00m post_processing\n\u001b[1;32m     23\u001b[0m \u001b[38;5;28;01mfrom\u001b[39;00m \u001b[38;5;21;01mdata_processing\u001b[39;00m\u001b[38;5;21;01m.\u001b[39;00m\u001b[38;5;21;01mconfig\u001b[39;00m \u001b[38;5;28;01mimport\u001b[39;00m post_processing_config\n\u001b[1;32m     24\u001b[0m \u001b[38;5;28;01mfrom\u001b[39;00m \u001b[38;5;21;01mmodels\u001b[39;00m\u001b[38;5;21;01m.\u001b[39;00m\u001b[38;5;21;01mDeepHedger\u001b[39;00m \u001b[38;5;28;01mimport\u001b[39;00m hedging\n",
      "File \u001b[0;32m~/Dev/master-thesis/src/models/data_generating_models/TimeCausalVAE/notebooks/../../../../data_processing/post_processing.py:3\u001b[0m\n\u001b[1;32m      1\u001b[0m \u001b[38;5;28;01mimport\u001b[39;00m \u001b[38;5;21;01mnumpy\u001b[39;00m \u001b[38;5;28;01mas\u001b[39;00m \u001b[38;5;21;01mnp\u001b[39;00m\n\u001b[1;32m      2\u001b[0m \u001b[38;5;28;01mimport\u001b[39;00m \u001b[38;5;21;01mpandas\u001b[39;00m \u001b[38;5;28;01mas\u001b[39;00m \u001b[38;5;21;01mpd\u001b[39;00m\n\u001b[0;32m----> 3\u001b[0m \u001b[38;5;28;01mfrom\u001b[39;00m \u001b[38;5;21;01mconfig\u001b[39;00m \u001b[38;5;28;01mimport\u001b[39;00m post_processing_config\n\u001b[1;32m      6\u001b[0m \u001b[38;5;28;01mdef\u001b[39;00m \u001b[38;5;21mpost_processing\u001b[39m(df: pd\u001b[38;5;241m.\u001b[39mDataFrame, clip_value_max: \u001b[38;5;28mfloat\u001b[39m, clip_value_min: \u001b[38;5;28mfloat\u001b[39m, vol: \u001b[38;5;28mfloat\u001b[39m, drift: \u001b[38;5;28mfloat\u001b[39m):\n\u001b[1;32m      7\u001b[0m \u001b[38;5;250m    \u001b[39m\u001b[38;5;124;03m\"\"\"\u001b[39;00m\n\u001b[1;32m      8\u001b[0m \u001b[38;5;124;03m    Clips, scales and remove drift from generated data.\u001b[39;00m\n\u001b[1;32m      9\u001b[0m \n\u001b[0;32m   (...)\u001b[0m\n\u001b[1;32m     19\u001b[0m \u001b[38;5;124;03m            The new dataframe will be normalized from 1\u001b[39;00m\n\u001b[1;32m     20\u001b[0m \u001b[38;5;124;03m    \"\"\"\u001b[39;00m\n",
      "\u001b[0;31mImportError\u001b[0m: cannot import name 'post_processing_config' from 'config' (/Users/sondrerogde/Dev/master-thesis/src/models/data_generating_models/TimeCausalVAE/notebooks/../../../../config.py)"
     ]
    }
   ],
   "source": [
    "%load_ext autoreload\n",
    "%autoreload 2\n",
    "import sys\n",
    "import yaml\n",
    "sys.path.append('../src')\n",
    "sys.path.append('../../../..')\n",
    "# sys.path.append('../../../')\n",
    "\n",
    "from tsvae.utils.logger_utils import get_console_logger\n",
    "logger = get_console_logger(__name__)\n",
    "from os import path as pt\n",
    "from experiments.experiment_utils import get_output_dir, update_config\n",
    "from tsvae.dataset.data_pipeline import DataPipeline\n",
    "from tsvae.models.network_pipeline import NetworkPipeline\n",
    "from tsvae.utils.random_utils import set_seed\n",
    "from tsvae.trainers.base_trainer_config import BaseTrainerConfig\n",
    "from tsvae.trainers.training_pipeline import TrainingPipeline\n",
    "from evaluations.hyperparameter import ModelEvaluator\n",
    "from os import path as pt\n",
    "import pandas as pd\n",
    "\n",
    "from data_processing.post_processing import post_processing\n",
    "from data_processing.config import post_processing_config\n",
    "from models.DeepHedger import hedging\n",
    "import wandb"
   ]
  },
  {
   "cell_type": "markdown",
   "metadata": {},
   "source": [
    "## TCVAE Model"
   ]
  },
  {
   "cell_type": "code",
   "execution_count": 7,
   "metadata": {},
   "outputs": [
    {
     "name": "stderr",
     "output_type": "stream",
     "text": [
      "Experiment results saved to ../results/Master_timestep_30/model_BetaCVAE_De_CLSTMRes_En_CLSTMRes_Prior_RealNVP_Con_Id_Dis_None_comment_test\n",
      "Experiment results saved to ../results/Master_timestep_30/model_BetaCVAE_De_CLSTMRes_En_CLSTMRes_Prior_RealNVP_Con_Id_Dis_None_comment_test\n",
      "Experiment results saved to ../results/Master_timestep_30/model_BetaCVAE_De_CLSTMRes_En_CLSTMRes_Prior_RealNVP_Con_Id_Dis_None_comment_test\n",
      "Experiment results saved to ../results/Master_timestep_30/model_BetaCVAE_De_CLSTMRes_En_CLSTMRes_Prior_RealNVP_Con_Id_Dis_None_comment_test\n",
      "Experiment results saved to ../results/Master_timestep_30/model_BetaCVAE_De_CLSTMRes_En_CLSTMRes_Prior_RealNVP_Con_Id_Dis_None_comment_test\n",
      "Experiment results saved to ../results/Master_timestep_30/model_BetaCVAE_De_CLSTMRes_En_CLSTMRes_Prior_RealNVP_Con_Id_Dis_None_comment_test\n",
      "Saving experiment config to ../results/Master_timestep_30/model_BetaCVAE_De_CLSTMRes_En_CLSTMRes_Prior_RealNVP_Con_Id_Dis_None_comment_test\n",
      "Saving experiment config to ../results/Master_timestep_30/model_BetaCVAE_De_CLSTMRes_En_CLSTMRes_Prior_RealNVP_Con_Id_Dis_None_comment_test\n",
      "Saving experiment config to ../results/Master_timestep_30/model_BetaCVAE_De_CLSTMRes_En_CLSTMRes_Prior_RealNVP_Con_Id_Dis_None_comment_test\n",
      "Saving experiment config to ../results/Master_timestep_30/model_BetaCVAE_De_CLSTMRes_En_CLSTMRes_Prior_RealNVP_Con_Id_Dis_None_comment_test\n",
      "Saving experiment config to ../results/Master_timestep_30/model_BetaCVAE_De_CLSTMRes_En_CLSTMRes_Prior_RealNVP_Con_Id_Dis_None_comment_test\n",
      "Saving experiment config to ../results/Master_timestep_30/model_BetaCVAE_De_CLSTMRes_En_CLSTMRes_Prior_RealNVP_Con_Id_Dis_None_comment_test\n",
      "Setting ramdom seed: 0\n",
      "Setting ramdom seed: 0\n",
      "Setting ramdom seed: 0\n",
      "Setting ramdom seed: 0\n",
      "Setting ramdom seed: 0\n",
      "Setting ramdom seed: 0\n"
     ]
    }
   ],
   "source": [
    "base_output_dir = '..' \n",
    "new_config = {'epochs' : 100, 'wandb': False, 'comment': 'test'}\n",
    "exp_config_path = '../configs/Master/betacvae.yaml'\n",
    "\n",
    "with open(exp_config_path) as file:\n",
    "    exp_config = dict(yaml.safe_load(file))\n",
    "\n",
    "exp_config = update_config(exp_config, new_config)\n",
    "\n",
    "exp_config.base_output_dir = base_output_dir\n",
    "exp_config.output_dir = get_output_dir(exp_config)\n",
    "logger.info(f\"Experiment results saved to {exp_config.output_dir}\")\n",
    "\n",
    "logger.info(f\"Saving experiment config to {exp_config.output_dir}\")\n",
    "config_file_path = pt.join(exp_config.output_dir, \"exp_config.yaml\")\n",
    "with open(config_file_path, \"w\") as outfile:\n",
    "    yaml.dump(exp_config, outfile, default_flow_style=False)\n",
    "# logger.info(exp_config)\n",
    "\n",
    "# Generating data\n",
    "logger.info(f\"Setting ramdom seed: {exp_config.seed}\")\n",
    "set_seed(exp_config.seed)"
   ]
  },
  {
   "cell_type": "code",
   "execution_count": 8,
   "metadata": {},
   "outputs": [
    {
     "name": "stderr",
     "output_type": "stream",
     "text": [
      "Loading dataset: Master\n",
      "Loading dataset: Master\n",
      "Loading dataset: Master\n",
      "Loading dataset: Master\n",
      "Loading dataset: Master\n",
      "Loading dataset: Master\n",
      "Base dataset initialized\n",
      "Load networks:\n",
      "Load networks:\n",
      "Load networks:\n",
      "Load networks:\n",
      "Load networks:\n",
      "Load networks:\n"
     ]
    }
   ],
   "source": [
    "logger.info(f\"Loading dataset: {exp_config.dataset}\")\n",
    "data_pipeline = DataPipeline()\n",
    "train_dataset, eval_dataset = data_pipeline(exp_config)\n",
    "\n",
    "# Loading network\n",
    "logger.info(\"Load networks:\")\n",
    "network_pipeline = NetworkPipeline()\n",
    "model = network_pipeline(exp_config)\n",
    "# logger.info(f\"{model}\")"
   ]
  },
  {
   "cell_type": "code",
   "execution_count": 9,
   "metadata": {},
   "outputs": [
    {
     "name": "stderr",
     "output_type": "stream",
     "text": [
      "\u001b[34m\u001b[1mwandb\u001b[0m: Using wandb-core as the SDK backend. Please refer to https://wandb.me/wandb-core for more information.\n",
      "\u001b[34m\u001b[1mwandb\u001b[0m: Currently logged in as: \u001b[33msondre-rogde\u001b[0m (\u001b[33msondre-rogde-ntnu\u001b[0m). Use \u001b[1m`wandb login --relogin`\u001b[0m to force relogin\n"
     ]
    },
    {
     "data": {
      "text/plain": [
       "True"
      ]
     },
     "execution_count": 9,
     "metadata": {},
     "output_type": "execute_result"
    }
   ],
   "source": [
    "wandb.login()"
   ]
  },
  {
   "cell_type": "code",
   "execution_count": 10,
   "metadata": {},
   "outputs": [
    {
     "name": "stdout",
     "output_type": "stream",
     "text": [
      "Create sweep with ID: tfoy3dgo\n",
      "Sweep URL: https://wandb.ai/sondre-rogde-ntnu/tcvae_hyperopt/sweeps/tfoy3dgo\n"
     ]
    }
   ],
   "source": [
    "sweep_config = {\n",
    "    'method': 'bayes',\n",
    "    'metric': {\n",
    "        'name': 'loss',\n",
    "        'goal': 'minimize'\n",
    "    },\n",
    "    'parameters': {\n",
    "        'learning_rate': {\n",
    "            'distribution': 'uniform',\n",
    "            'min': 0.0001,\n",
    "            'max': 0.02\n",
    "        },\n",
    "        'E_hidden_dim': {\n",
    "            'values': [8, 16, 32]\n",
    "        },\n",
    "        'E_num_layers': {\n",
    "            'values': [1, 2, 3]\n",
    "        },\n",
    "        'D_hidden_dim': {\n",
    "            'values': [8, 16, 32]\n",
    "        },\n",
    "        'D_num_layers': {\n",
    "            'values': [1, 2, 3]\n",
    "        }\n",
    "    }\n",
    "}\n",
    "\n",
    "\n",
    "sweep_id = wandb.sweep(sweep_config, project=\"tcvae_hyperopt\")"
   ]
  },
  {
   "cell_type": "code",
   "execution_count": null,
   "metadata": {},
   "outputs": [],
   "source": [
    "def objective():\n",
    "    wandb.init()\n",
    "    config = wandb.config\n",
    "    \n",
    "    exp_config.learning_rate = config.learning_rate\n",
    "    exp_config.E_hidden_dim = config.E_hidden_dim\n",
    "    exp_config.E_num_layers = config.E_num_layers\n",
    "    exp_config.D_hidden_dim = config.D_hidden_dim\n",
    "    exp_config.D_num_layers = config.D_num_layers\n",
    "\n",
    "    training_config = BaseTrainerConfig(\n",
    "    output_dir=exp_config.output_dir,\n",
    "    learning_rate=exp_config.lr,\n",
    "    per_device_train_batch_size=exp_config.train_batch_size,\n",
    "    per_device_eval_batch_size=exp_config.eval_batch_size,\n",
    "    optimizer_cls=exp_config.optimizer,\n",
    "    optimizer_params=None,\n",
    "    scheduler_cls=None,\n",
    "    scheduler_params=None,\n",
    "    steps_saving=exp_config.steps_saving,\n",
    "    steps_predict=exp_config.steps_predict,\n",
    "    seed=exp_config.seed,\n",
    "    num_epochs=exp_config.epochs,\n",
    "    wandb_callback=exp_config.wandb,\n",
    "    wandb_output_dir=exp_config.base_output_dir + \"/wandb\",\n",
    ")\n",
    "\n",
    "\n",
    "    # Train TCVAE\n",
    "    train_pipeline = TrainingPipeline(model=model, training_config=training_config, exp_config=exp_config)\n",
    "\n",
    "    trainer = train_pipeline(\n",
    "        train_dataset=train_dataset,\n",
    "        eval_dataset=eval_dataset,\n",
    "        device_name=exp_config.device_name,\n",
    "    )\n",
    "\n",
    "    train_pipeline.train(log_output=True)\n",
    "\n",
    "    # Generate data\n",
    "\n",
    "    model_dir = pt.join(trainer.training_dir, 'final_model')\n",
    "    model_evaluator = ModelEvaluator(model_dir)\n",
    "    output_dir = model_evaluator.hyper_model_dir\n",
    "    model = model_evaluator.model\n",
    "\n",
    "    df_tot_fake = pd.DataFrame()\n",
    "    # 100 times 1000 corresponds to M = 100.000\n",
    "    for i in range(100):\n",
    "        test_data, gen_data, recon_data = model_evaluator.load_data(seed = i, n_sample_test=1000)\n",
    "        ds = model_evaluator.data_ppl.base_dataset\n",
    "\n",
    "        real_data = test_data\n",
    "        recon_data = recon_data\n",
    "        fake_data = gen_data\n",
    "\n",
    "        df_sub_fake = pd.DataFrame(gen_data.detach().squeeze(-1).numpy())\n",
    "        df_tot_fake = pd.concat([df_tot_fake, df_sub_fake], axis=0)\n",
    "\n",
    "    # Post-processing\n",
    "    df_post_processed = post_processing(df_tot_fake, **post_processing_config)\n",
    "    \n",
    "    # Hedging\n",
    "    val_loss = hedging(df_post_processed)\n",
    "\n",
    "    return val_loss\n",
    "\n"
   ]
  },
  {
   "cell_type": "code",
   "execution_count": 14,
   "metadata": {},
   "outputs": [
    {
     "name": "stderr",
     "output_type": "stream",
     "text": [
      "\u001b[34m\u001b[1mwandb\u001b[0m: Agent Starting Run: vd5q18ph with config:\n",
      "\u001b[34m\u001b[1mwandb\u001b[0m: \tD_hidden_dim: 32\n",
      "\u001b[34m\u001b[1mwandb\u001b[0m: \tD_num_layers: 2\n",
      "\u001b[34m\u001b[1mwandb\u001b[0m: \tE_hidden_dim: 16\n",
      "\u001b[34m\u001b[1mwandb\u001b[0m: \tE_num_layers: 3\n",
      "\u001b[34m\u001b[1mwandb\u001b[0m: \tlearning_rate: 0.018296830688727863\n"
     ]
    },
    {
     "data": {
      "text/html": [
       "Tracking run with wandb version 0.18.5"
      ],
      "text/plain": [
       "<IPython.core.display.HTML object>"
      ]
     },
     "metadata": {},
     "output_type": "display_data"
    },
    {
     "data": {
      "text/html": [
       "Run data is saved locally in <code>/Users/sondrerogde/Dev/master-thesis/src/models/data_generating_models/TimeCausalVAE/notebooks/wandb/run-20250324_163354-vd5q18ph</code>"
      ],
      "text/plain": [
       "<IPython.core.display.HTML object>"
      ]
     },
     "metadata": {},
     "output_type": "display_data"
    },
    {
     "data": {
      "text/html": [
       "Syncing run <strong><a href='https://wandb.ai/sondre-rogde-ntnu/tcvae_hyperopt/runs/vd5q18ph' target=\"_blank\">cool-sweep-1</a></strong> to <a href='https://wandb.ai/sondre-rogde-ntnu/tcvae_hyperopt' target=\"_blank\">Weights & Biases</a> (<a href='https://wandb.me/run' target=\"_blank\">docs</a>)<br/>Sweep page: <a href='https://wandb.ai/sondre-rogde-ntnu/tcvae_hyperopt/sweeps/tfoy3dgo' target=\"_blank\">https://wandb.ai/sondre-rogde-ntnu/tcvae_hyperopt/sweeps/tfoy3dgo</a>"
      ],
      "text/plain": [
       "<IPython.core.display.HTML object>"
      ]
     },
     "metadata": {},
     "output_type": "display_data"
    },
    {
     "data": {
      "text/html": [
       " View project at <a href='https://wandb.ai/sondre-rogde-ntnu/tcvae_hyperopt' target=\"_blank\">https://wandb.ai/sondre-rogde-ntnu/tcvae_hyperopt</a>"
      ],
      "text/plain": [
       "<IPython.core.display.HTML object>"
      ]
     },
     "metadata": {},
     "output_type": "display_data"
    },
    {
     "data": {
      "text/html": [
       " View sweep at <a href='https://wandb.ai/sondre-rogde-ntnu/tcvae_hyperopt/sweeps/tfoy3dgo' target=\"_blank\">https://wandb.ai/sondre-rogde-ntnu/tcvae_hyperopt/sweeps/tfoy3dgo</a>"
      ],
      "text/plain": [
       "<IPython.core.display.HTML object>"
      ]
     },
     "metadata": {},
     "output_type": "display_data"
    },
    {
     "data": {
      "text/html": [
       " View run at <a href='https://wandb.ai/sondre-rogde-ntnu/tcvae_hyperopt/runs/vd5q18ph' target=\"_blank\">https://wandb.ai/sondre-rogde-ntnu/tcvae_hyperopt/runs/vd5q18ph</a>"
      ],
      "text/plain": [
       "<IPython.core.display.HTML object>"
      ]
     },
     "metadata": {},
     "output_type": "display_data"
    },
    {
     "data": {
      "application/vnd.jupyter.widget-view+json": {
       "model_id": "39fa2e4a343c4558a362f501a592de00",
       "version_major": 2,
       "version_minor": 0
      },
      "text/plain": [
       "VBox(children=(Label(value='0.005 MB of 0.005 MB uploaded\\r'), FloatProgress(value=1.0, max=1.0)))"
      ]
     },
     "metadata": {},
     "output_type": "display_data"
    },
    {
     "data": {
      "text/html": [
       " View run <strong style=\"color:#cdcd00\">cool-sweep-1</strong> at: <a href='https://wandb.ai/sondre-rogde-ntnu/tcvae_hyperopt/runs/vd5q18ph' target=\"_blank\">https://wandb.ai/sondre-rogde-ntnu/tcvae_hyperopt/runs/vd5q18ph</a><br/> View project at: <a href='https://wandb.ai/sondre-rogde-ntnu/tcvae_hyperopt' target=\"_blank\">https://wandb.ai/sondre-rogde-ntnu/tcvae_hyperopt</a><br/>Synced 4 W&B file(s), 0 media file(s), 3 artifact file(s) and 0 other file(s)"
      ],
      "text/plain": [
       "<IPython.core.display.HTML object>"
      ]
     },
     "metadata": {},
     "output_type": "display_data"
    },
    {
     "data": {
      "text/html": [
       "Find logs at: <code>./wandb/run-20250324_163354-vd5q18ph/logs</code>"
      ],
      "text/plain": [
       "<IPython.core.display.HTML object>"
      ]
     },
     "metadata": {},
     "output_type": "display_data"
    },
    {
     "name": "stderr",
     "output_type": "stream",
     "text": [
      "Run vd5q18ph errored:\n",
      "Traceback (most recent call last):\n",
      "  File \"/Users/sondrerogde/Dev/master-thesis/.venv/lib/python3.12/site-packages/wandb/agents/pyagent.py\", line 306, in _run_job\n",
      "    self._function()\n",
      "  File \"/var/folders/3t/5vvh8l5x48s7tyvbx4b6v9xr0000gn/T/ipykernel_24212/2604151482.py\", line 30, in objective\n",
      "    train_pipeline = TrainingPipeline(model=model, training_config=training_config, exp_config=exp_config)\n",
      "                                            ^^^^^\n",
      "UnboundLocalError: cannot access local variable 'model' where it is not associated with a value\n",
      "\n",
      "\u001b[34m\u001b[1mwandb\u001b[0m: \u001b[32m\u001b[41mERROR\u001b[0m Run vd5q18ph errored:\n",
      "\u001b[34m\u001b[1mwandb\u001b[0m: \u001b[32m\u001b[41mERROR\u001b[0m Traceback (most recent call last):\n",
      "\u001b[34m\u001b[1mwandb\u001b[0m: \u001b[32m\u001b[41mERROR\u001b[0m   File \"/Users/sondrerogde/Dev/master-thesis/.venv/lib/python3.12/site-packages/wandb/agents/pyagent.py\", line 306, in _run_job\n",
      "\u001b[34m\u001b[1mwandb\u001b[0m: \u001b[32m\u001b[41mERROR\u001b[0m     self._function()\n",
      "\u001b[34m\u001b[1mwandb\u001b[0m: \u001b[32m\u001b[41mERROR\u001b[0m   File \"/var/folders/3t/5vvh8l5x48s7tyvbx4b6v9xr0000gn/T/ipykernel_24212/2604151482.py\", line 30, in objective\n",
      "\u001b[34m\u001b[1mwandb\u001b[0m: \u001b[32m\u001b[41mERROR\u001b[0m     train_pipeline = TrainingPipeline(model=model, training_config=training_config, exp_config=exp_config)\n",
      "\u001b[34m\u001b[1mwandb\u001b[0m: \u001b[32m\u001b[41mERROR\u001b[0m                                             ^^^^^\n",
      "\u001b[34m\u001b[1mwandb\u001b[0m: \u001b[32m\u001b[41mERROR\u001b[0m UnboundLocalError: cannot access local variable 'model' where it is not associated with a value\n",
      "\u001b[34m\u001b[1mwandb\u001b[0m: \u001b[32m\u001b[41mERROR\u001b[0m \n",
      "\u001b[34m\u001b[1mwandb\u001b[0m: Agent Starting Run: 9tetuont with config:\n",
      "\u001b[34m\u001b[1mwandb\u001b[0m: \tD_hidden_dim: 16\n",
      "\u001b[34m\u001b[1mwandb\u001b[0m: \tD_num_layers: 1\n",
      "\u001b[34m\u001b[1mwandb\u001b[0m: \tE_hidden_dim: 16\n",
      "\u001b[34m\u001b[1mwandb\u001b[0m: \tE_num_layers: 1\n",
      "\u001b[34m\u001b[1mwandb\u001b[0m: \tlearning_rate: 0.012850655711607787\n"
     ]
    },
    {
     "data": {
      "text/html": [
       "Tracking run with wandb version 0.18.5"
      ],
      "text/plain": [
       "<IPython.core.display.HTML object>"
      ]
     },
     "metadata": {},
     "output_type": "display_data"
    },
    {
     "data": {
      "text/html": [
       "Run data is saved locally in <code>/Users/sondrerogde/Dev/master-thesis/src/models/data_generating_models/TimeCausalVAE/notebooks/wandb/run-20250324_163404-9tetuont</code>"
      ],
      "text/plain": [
       "<IPython.core.display.HTML object>"
      ]
     },
     "metadata": {},
     "output_type": "display_data"
    },
    {
     "data": {
      "text/html": [
       "Syncing run <strong><a href='https://wandb.ai/sondre-rogde-ntnu/tcvae_hyperopt/runs/9tetuont' target=\"_blank\">feasible-sweep-2</a></strong> to <a href='https://wandb.ai/sondre-rogde-ntnu/tcvae_hyperopt' target=\"_blank\">Weights & Biases</a> (<a href='https://wandb.me/run' target=\"_blank\">docs</a>)<br/>Sweep page: <a href='https://wandb.ai/sondre-rogde-ntnu/tcvae_hyperopt/sweeps/tfoy3dgo' target=\"_blank\">https://wandb.ai/sondre-rogde-ntnu/tcvae_hyperopt/sweeps/tfoy3dgo</a>"
      ],
      "text/plain": [
       "<IPython.core.display.HTML object>"
      ]
     },
     "metadata": {},
     "output_type": "display_data"
    },
    {
     "data": {
      "text/html": [
       " View project at <a href='https://wandb.ai/sondre-rogde-ntnu/tcvae_hyperopt' target=\"_blank\">https://wandb.ai/sondre-rogde-ntnu/tcvae_hyperopt</a>"
      ],
      "text/plain": [
       "<IPython.core.display.HTML object>"
      ]
     },
     "metadata": {},
     "output_type": "display_data"
    },
    {
     "data": {
      "text/html": [
       " View sweep at <a href='https://wandb.ai/sondre-rogde-ntnu/tcvae_hyperopt/sweeps/tfoy3dgo' target=\"_blank\">https://wandb.ai/sondre-rogde-ntnu/tcvae_hyperopt/sweeps/tfoy3dgo</a>"
      ],
      "text/plain": [
       "<IPython.core.display.HTML object>"
      ]
     },
     "metadata": {},
     "output_type": "display_data"
    },
    {
     "data": {
      "text/html": [
       " View run at <a href='https://wandb.ai/sondre-rogde-ntnu/tcvae_hyperopt/runs/9tetuont' target=\"_blank\">https://wandb.ai/sondre-rogde-ntnu/tcvae_hyperopt/runs/9tetuont</a>"
      ],
      "text/plain": [
       "<IPython.core.display.HTML object>"
      ]
     },
     "metadata": {},
     "output_type": "display_data"
    },
    {
     "data": {
      "text/html": [
       " View run <strong style=\"color:#cdcd00\">feasible-sweep-2</strong> at: <a href='https://wandb.ai/sondre-rogde-ntnu/tcvae_hyperopt/runs/9tetuont' target=\"_blank\">https://wandb.ai/sondre-rogde-ntnu/tcvae_hyperopt/runs/9tetuont</a><br/> View project at: <a href='https://wandb.ai/sondre-rogde-ntnu/tcvae_hyperopt' target=\"_blank\">https://wandb.ai/sondre-rogde-ntnu/tcvae_hyperopt</a><br/>Synced 5 W&B file(s), 0 media file(s), 0 artifact file(s) and 0 other file(s)"
      ],
      "text/plain": [
       "<IPython.core.display.HTML object>"
      ]
     },
     "metadata": {},
     "output_type": "display_data"
    },
    {
     "data": {
      "text/html": [
       "Find logs at: <code>./wandb/run-20250324_163404-9tetuont/logs</code>"
      ],
      "text/plain": [
       "<IPython.core.display.HTML object>"
      ]
     },
     "metadata": {},
     "output_type": "display_data"
    },
    {
     "name": "stderr",
     "output_type": "stream",
     "text": [
      "Run 9tetuont errored:\n",
      "Traceback (most recent call last):\n",
      "  File \"/Users/sondrerogde/Dev/master-thesis/.venv/lib/python3.12/site-packages/wandb/agents/pyagent.py\", line 306, in _run_job\n",
      "    self._function()\n",
      "  File \"/var/folders/3t/5vvh8l5x48s7tyvbx4b6v9xr0000gn/T/ipykernel_24212/2604151482.py\", line 30, in objective\n",
      "    train_pipeline = TrainingPipeline(model=model, training_config=training_config, exp_config=exp_config)\n",
      "                                            ^^^^^\n",
      "UnboundLocalError: cannot access local variable 'model' where it is not associated with a value\n",
      "\n",
      "\u001b[34m\u001b[1mwandb\u001b[0m: \u001b[32m\u001b[41mERROR\u001b[0m Run 9tetuont errored:\n",
      "\u001b[34m\u001b[1mwandb\u001b[0m: \u001b[32m\u001b[41mERROR\u001b[0m Traceback (most recent call last):\n",
      "\u001b[34m\u001b[1mwandb\u001b[0m: \u001b[32m\u001b[41mERROR\u001b[0m   File \"/Users/sondrerogde/Dev/master-thesis/.venv/lib/python3.12/site-packages/wandb/agents/pyagent.py\", line 306, in _run_job\n",
      "\u001b[34m\u001b[1mwandb\u001b[0m: \u001b[32m\u001b[41mERROR\u001b[0m     self._function()\n",
      "\u001b[34m\u001b[1mwandb\u001b[0m: \u001b[32m\u001b[41mERROR\u001b[0m   File \"/var/folders/3t/5vvh8l5x48s7tyvbx4b6v9xr0000gn/T/ipykernel_24212/2604151482.py\", line 30, in objective\n",
      "\u001b[34m\u001b[1mwandb\u001b[0m: \u001b[32m\u001b[41mERROR\u001b[0m     train_pipeline = TrainingPipeline(model=model, training_config=training_config, exp_config=exp_config)\n",
      "\u001b[34m\u001b[1mwandb\u001b[0m: \u001b[32m\u001b[41mERROR\u001b[0m                                             ^^^^^\n",
      "\u001b[34m\u001b[1mwandb\u001b[0m: \u001b[32m\u001b[41mERROR\u001b[0m UnboundLocalError: cannot access local variable 'model' where it is not associated with a value\n",
      "\u001b[34m\u001b[1mwandb\u001b[0m: \u001b[32m\u001b[41mERROR\u001b[0m \n",
      "\u001b[34m\u001b[1mwandb\u001b[0m: Agent Starting Run: bhkk0w6m with config:\n",
      "\u001b[34m\u001b[1mwandb\u001b[0m: \tD_hidden_dim: 32\n",
      "\u001b[34m\u001b[1mwandb\u001b[0m: \tD_num_layers: 3\n",
      "\u001b[34m\u001b[1mwandb\u001b[0m: \tE_hidden_dim: 8\n",
      "\u001b[34m\u001b[1mwandb\u001b[0m: \tE_num_layers: 3\n",
      "\u001b[34m\u001b[1mwandb\u001b[0m: \tlearning_rate: 0.005058327376054678\n"
     ]
    },
    {
     "data": {
      "text/html": [
       "Tracking run with wandb version 0.18.5"
      ],
      "text/plain": [
       "<IPython.core.display.HTML object>"
      ]
     },
     "metadata": {},
     "output_type": "display_data"
    },
    {
     "data": {
      "text/html": [
       "Run data is saved locally in <code>/Users/sondrerogde/Dev/master-thesis/src/models/data_generating_models/TimeCausalVAE/notebooks/wandb/run-20250324_163410-bhkk0w6m</code>"
      ],
      "text/plain": [
       "<IPython.core.display.HTML object>"
      ]
     },
     "metadata": {},
     "output_type": "display_data"
    },
    {
     "data": {
      "text/html": [
       "Syncing run <strong><a href='https://wandb.ai/sondre-rogde-ntnu/tcvae_hyperopt/runs/bhkk0w6m' target=\"_blank\">zany-sweep-3</a></strong> to <a href='https://wandb.ai/sondre-rogde-ntnu/tcvae_hyperopt' target=\"_blank\">Weights & Biases</a> (<a href='https://wandb.me/run' target=\"_blank\">docs</a>)<br/>Sweep page: <a href='https://wandb.ai/sondre-rogde-ntnu/tcvae_hyperopt/sweeps/tfoy3dgo' target=\"_blank\">https://wandb.ai/sondre-rogde-ntnu/tcvae_hyperopt/sweeps/tfoy3dgo</a>"
      ],
      "text/plain": [
       "<IPython.core.display.HTML object>"
      ]
     },
     "metadata": {},
     "output_type": "display_data"
    },
    {
     "data": {
      "text/html": [
       " View project at <a href='https://wandb.ai/sondre-rogde-ntnu/tcvae_hyperopt' target=\"_blank\">https://wandb.ai/sondre-rogde-ntnu/tcvae_hyperopt</a>"
      ],
      "text/plain": [
       "<IPython.core.display.HTML object>"
      ]
     },
     "metadata": {},
     "output_type": "display_data"
    },
    {
     "data": {
      "text/html": [
       " View sweep at <a href='https://wandb.ai/sondre-rogde-ntnu/tcvae_hyperopt/sweeps/tfoy3dgo' target=\"_blank\">https://wandb.ai/sondre-rogde-ntnu/tcvae_hyperopt/sweeps/tfoy3dgo</a>"
      ],
      "text/plain": [
       "<IPython.core.display.HTML object>"
      ]
     },
     "metadata": {},
     "output_type": "display_data"
    },
    {
     "data": {
      "text/html": [
       " View run at <a href='https://wandb.ai/sondre-rogde-ntnu/tcvae_hyperopt/runs/bhkk0w6m' target=\"_blank\">https://wandb.ai/sondre-rogde-ntnu/tcvae_hyperopt/runs/bhkk0w6m</a>"
      ],
      "text/plain": [
       "<IPython.core.display.HTML object>"
      ]
     },
     "metadata": {},
     "output_type": "display_data"
    },
    {
     "data": {
      "text/html": [
       " View run <strong style=\"color:#cdcd00\">zany-sweep-3</strong> at: <a href='https://wandb.ai/sondre-rogde-ntnu/tcvae_hyperopt/runs/bhkk0w6m' target=\"_blank\">https://wandb.ai/sondre-rogde-ntnu/tcvae_hyperopt/runs/bhkk0w6m</a><br/> View project at: <a href='https://wandb.ai/sondre-rogde-ntnu/tcvae_hyperopt' target=\"_blank\">https://wandb.ai/sondre-rogde-ntnu/tcvae_hyperopt</a><br/>Synced 5 W&B file(s), 0 media file(s), 0 artifact file(s) and 0 other file(s)"
      ],
      "text/plain": [
       "<IPython.core.display.HTML object>"
      ]
     },
     "metadata": {},
     "output_type": "display_data"
    },
    {
     "data": {
      "text/html": [
       "Find logs at: <code>./wandb/run-20250324_163410-bhkk0w6m/logs</code>"
      ],
      "text/plain": [
       "<IPython.core.display.HTML object>"
      ]
     },
     "metadata": {},
     "output_type": "display_data"
    },
    {
     "name": "stderr",
     "output_type": "stream",
     "text": [
      "Run bhkk0w6m errored:\n",
      "Traceback (most recent call last):\n",
      "  File \"/Users/sondrerogde/Dev/master-thesis/.venv/lib/python3.12/site-packages/wandb/agents/pyagent.py\", line 306, in _run_job\n",
      "    self._function()\n",
      "  File \"/var/folders/3t/5vvh8l5x48s7tyvbx4b6v9xr0000gn/T/ipykernel_24212/2604151482.py\", line 30, in objective\n",
      "    train_pipeline = TrainingPipeline(model=model, training_config=training_config, exp_config=exp_config)\n",
      "                                            ^^^^^\n",
      "UnboundLocalError: cannot access local variable 'model' where it is not associated with a value\n",
      "\n",
      "\u001b[34m\u001b[1mwandb\u001b[0m: \u001b[32m\u001b[41mERROR\u001b[0m Run bhkk0w6m errored:\n",
      "\u001b[34m\u001b[1mwandb\u001b[0m: \u001b[32m\u001b[41mERROR\u001b[0m Traceback (most recent call last):\n",
      "\u001b[34m\u001b[1mwandb\u001b[0m: \u001b[32m\u001b[41mERROR\u001b[0m   File \"/Users/sondrerogde/Dev/master-thesis/.venv/lib/python3.12/site-packages/wandb/agents/pyagent.py\", line 306, in _run_job\n",
      "\u001b[34m\u001b[1mwandb\u001b[0m: \u001b[32m\u001b[41mERROR\u001b[0m     self._function()\n",
      "\u001b[34m\u001b[1mwandb\u001b[0m: \u001b[32m\u001b[41mERROR\u001b[0m   File \"/var/folders/3t/5vvh8l5x48s7tyvbx4b6v9xr0000gn/T/ipykernel_24212/2604151482.py\", line 30, in objective\n",
      "\u001b[34m\u001b[1mwandb\u001b[0m: \u001b[32m\u001b[41mERROR\u001b[0m     train_pipeline = TrainingPipeline(model=model, training_config=training_config, exp_config=exp_config)\n",
      "\u001b[34m\u001b[1mwandb\u001b[0m: \u001b[32m\u001b[41mERROR\u001b[0m                                             ^^^^^\n",
      "\u001b[34m\u001b[1mwandb\u001b[0m: \u001b[32m\u001b[41mERROR\u001b[0m UnboundLocalError: cannot access local variable 'model' where it is not associated with a value\n",
      "\u001b[34m\u001b[1mwandb\u001b[0m: \u001b[32m\u001b[41mERROR\u001b[0m \n",
      "Detected 3 failed runs in the first 60 seconds, killing sweep.\n",
      "\u001b[34m\u001b[1mwandb\u001b[0m: \u001b[32m\u001b[41mERROR\u001b[0m Detected 3 failed runs in the first 60 seconds, killing sweep.\n",
      "\u001b[34m\u001b[1mwandb\u001b[0m: To disable this check set WANDB_AGENT_DISABLE_FLAPPING=true\n"
     ]
    }
   ],
   "source": [
    "wandb.agent(sweep_id, function=objective, count=50)"
   ]
  }
 ],
 "metadata": {
  "kernelspec": {
   "display_name": ".venv",
   "language": "python",
   "name": "python3"
  },
  "language_info": {
   "codemirror_mode": {
    "name": "ipython",
    "version": 3
   },
   "file_extension": ".py",
   "mimetype": "text/x-python",
   "name": "python",
   "nbconvert_exporter": "python",
   "pygments_lexer": "ipython3",
   "version": "3.12.9"
  }
 },
 "nbformat": 4,
 "nbformat_minor": 2
}
